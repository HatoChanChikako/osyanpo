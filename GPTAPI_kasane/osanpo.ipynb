{
 "cells": [
  {
   "cell_type": "code",
   "execution_count": null,
   "metadata": {},
   "outputs": [],
   "source": [
    "from openai import OpenAI\n",
    "\n",
    "client = OpenAI(api_key='')"
   ]
  },
  {
   "cell_type": "code",
   "execution_count": null,
   "metadata": {},
   "outputs": [],
   "source": [
    "# level_1 = (\"花\",\"猫\",\"犬\",\"ポスト\",\"木\",\"標識\",\"表札\")"
   ]
  },
  {
   "cell_type": "code",
   "execution_count": 51,
   "metadata": {},
   "outputs": [],
   "source": [
    "request_to_gpt = \"散歩中に探せるシンプルなお題をランダムにひとつ生成してください。レベル1は未就学児が見つけることができるもの（はな、ねこ、いぬ、ぽすと、ひょうさつ、ひょうしきなど）で全てひらがなで表示、レベル2は小学生が見つけることができるもの（赤い花、黒い猫、茶色い犬、赤いポスト、漢字２文字の表札、止まれの標識）で小学生が習う漢字意外はひらがなで表示してください。今回はレベル１でお願い。\""
   ]
  },
  {
   "cell_type": "code",
   "execution_count": 52,
   "metadata": {},
   "outputs": [
    {
     "name": "stdout",
     "output_type": "stream",
     "text": [
      "くま\n"
     ]
    }
   ],
   "source": [
    "response = client.chat.completions.create(\n",
    "    model=\"gpt-3.5-turbo\",\n",
    "    messages=[\n",
    "    {'role': 'user', 'content': request_to_gpt }],\n",
    "    temperature=0.0)\n",
    "\n",
    "print(response.choices[0].message.content)"
   ]
  },
  {
   "cell_type": "code",
   "execution_count": null,
   "metadata": {},
   "outputs": [],
   "source": []
  }
 ],
 "metadata": {
  "kernelspec": {
   "display_name": "Python 3",
   "language": "python",
   "name": "python3"
  },
  "language_info": {
   "codemirror_mode": {
    "name": "ipython",
    "version": 3
   },
   "file_extension": ".py",
   "mimetype": "text/x-python",
   "name": "python",
   "nbconvert_exporter": "python",
   "pygments_lexer": "ipython3",
   "version": "3.11.4"
  }
 },
 "nbformat": 4,
 "nbformat_minor": 2
}
